{
  "nbformat": 4,
  "nbformat_minor": 0,
  "metadata": {
    "colab": {
      "name": "handsonml_Ch2.ipynb",
      "provenance": [],
      "include_colab_link": true
    },
    "kernelspec": {
      "name": "python3",
      "display_name": "Python 3"
    }
  },
  "cells": [
    {
      "cell_type": "markdown",
      "metadata": {
        "id": "view-in-github",
        "colab_type": "text"
      },
      "source": [
        "<a href=\"https://colab.research.google.com/github/pacificlion/handsonml/blob/test/handsonml_Ch2.ipynb\" target=\"_parent\"><img src=\"https://colab.research.google.com/assets/colab-badge.svg\" alt=\"Open In Colab\"/></a>"
      ]
    },
    {
      "cell_type": "code",
      "metadata": {
        "id": "2hc1xc5vauS-",
        "colab_type": "code",
        "outputId": "28584a54-10dd-4df1-b6d7-d1d5cb39c3b7",
        "colab": {
          "base_uri": "https://localhost:8080/",
          "height": 782
        }
      },
      "source": [
        "# Clone the entire repo.\n",
        "!git clone -l -s git://github.com/ageron/handson-ml.git cloned-repo\n",
        "%cd cloned-repo\n",
        "!ls"
      ],
      "execution_count": 0,
      "outputs": [
        {
          "output_type": "stream",
          "text": [
            "Cloning into 'cloned-repo'...\n",
            "warning: --local is ignored\n",
            "remote: Enumerating objects: 4, done.\u001b[K\n",
            "remote: Counting objects: 100% (4/4), done.\u001b[K\n",
            "remote: Compressing objects: 100% (4/4), done.\u001b[K\n",
            "remote: Total 1508 (delta 0), reused 1 (delta 0), pack-reused 1504\u001b[K\n",
            "Receiving objects: 100% (1508/1508), 83.37 MiB | 27.82 MiB/s, done.\n",
            "Resolving deltas: 100% (874/874), done.\n",
            "/content/cloned-repo\n",
            "01_the_machine_learning_landscape.ipynb\n",
            "02_end_to_end_machine_learning_project.ipynb\n",
            "03_classification.ipynb\n",
            "04_training_linear_models.ipynb\n",
            "05_support_vector_machines.ipynb\n",
            "06_decision_trees.ipynb\n",
            "07_ensemble_learning_and_random_forests.ipynb\n",
            "08_dimensionality_reduction.ipynb\n",
            "09_up_and_running_with_tensorflow.ipynb\n",
            "10_introduction_to_artificial_neural_networks.ipynb\n",
            "11_deep_learning.ipynb\n",
            "12_distributed_tensorflow.ipynb\n",
            "13_convolutional_neural_networks.ipynb\n",
            "14_recurrent_neural_networks.ipynb\n",
            "15_autoencoders.ipynb\n",
            "16_reinforcement_learning.ipynb\n",
            "book_equations.ipynb\n",
            "datasets\n",
            "docker\n",
            "extra_autodiff.ipynb\n",
            "extra_capsnets-cn.ipynb\n",
            "extra_capsnets.ipynb\n",
            "extra_gradient_descent_comparison.ipynb\n",
            "extra_tensorflow_reproducibility.ipynb\n",
            "future_encoders.py\n",
            "images\n",
            "index.ipynb\n",
            "LICENSE\n",
            "math_linear_algebra.ipynb\n",
            "ml-project-checklist.md\n",
            "README.md\n",
            "requirements.txt\n",
            "tensorflow_graph_in_jupyter.py\n",
            "tools_matplotlib.ipynb\n",
            "tools_numpy.ipynb\n",
            "tools_pandas.ipynb\n"
          ],
          "name": "stdout"
        }
      ]
    },
    {
      "cell_type": "markdown",
      "metadata": {
        "id": "Hm8lUHsIbocT",
        "colab_type": "text"
      },
      "source": [
        "### datapath define"
      ]
    },
    {
      "cell_type": "code",
      "metadata": {
        "id": "xSKBsq2JbnU9",
        "colab_type": "code",
        "colab": {}
      },
      "source": [
        "import os\n",
        "datapath = os.path.join(\"datasets\",\"lifesat\", \"\")"
      ],
      "execution_count": 0,
      "outputs": []
    },
    {
      "cell_type": "markdown",
      "metadata": {
        "id": "6MUCyUHNb7XD",
        "colab_type": "text"
      },
      "source": [
        "### import libraries"
      ]
    },
    {
      "cell_type": "code",
      "metadata": {
        "id": "G65QNhppcJvo",
        "colab_type": "code",
        "colab": {}
      },
      "source": [
        "import matplotlib \n",
        "import matplotlib.pyplot as plt\n",
        "import numpy as np\n",
        "import pandas as pd\n",
        "import sklearn\n",
        "import sklearn.linear_model as linear_model"
      ],
      "execution_count": 0,
      "outputs": []
    },
    {
      "cell_type": "markdown",
      "metadata": {
        "id": "DJYzPaRKce-t",
        "colab_type": "text"
      },
      "source": [
        "### import data"
      ]
    },
    {
      "cell_type": "code",
      "metadata": {
        "id": "mL6gxZAse_yB",
        "colab_type": "code",
        "colab": {}
      },
      "source": [
        "oecd_bli = pd.read_csv(datapath + \"oecd_bli_2015.csv\", thousands=\",\");\n",
        "gdp_data =  pd.read_csv(datapath + \"gdp_per_capita.csv\", thousands=\",\", delimiter='\\t', encoding='latin1', na_values=\"n/a\");"
      ],
      "execution_count": 0,
      "outputs": []
    },
    {
      "cell_type": "markdown",
      "metadata": {
        "id": "cvHiQYU6dTxQ",
        "colab_type": "text"
      },
      "source": [
        "### "
      ]
    }
  ]
}