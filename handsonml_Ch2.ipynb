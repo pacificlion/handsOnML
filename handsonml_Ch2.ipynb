{
  "nbformat": 4,
  "nbformat_minor": 0,
  "metadata": {
    "colab": {
      "name": "handsonml_Ch2.ipynb",
      "provenance": [],
      "include_colab_link": true
    },
    "kernelspec": {
      "name": "python3",
      "display_name": "Python 3"
    }
  },
  "cells": [
    {
      "cell_type": "markdown",
      "metadata": {
        "id": "view-in-github",
        "colab_type": "text"
      },
      "source": [
        "<a href=\"https://colab.research.google.com/github/pacificlion/handsonml/blob/test/handsonml_Ch2.ipynb\" target=\"_parent\"><img src=\"https://colab.research.google.com/assets/colab-badge.svg\" alt=\"Open In Colab\"/></a>"
      ]
    },
    {
      "cell_type": "code",
      "metadata": {
        "id": "2hc1xc5vauS-",
        "colab_type": "code",
        "outputId": "28584a54-10dd-4df1-b6d7-d1d5cb39c3b7",
        "colab": {
          "base_uri": "https://localhost:8080/",
          "height": 782
        }
      },
      "source": [
        "# Clone the entire repo.\n",
        "!git clone -l -s git://github.com/ageron/handson-ml.git cloned-repo\n",
        "%cd cloned-repo\n",
        "!ls"
      ],
      "execution_count": 0,
      "outputs": [
        {
          "output_type": "stream",
          "text": [
            "Cloning into 'cloned-repo'...\n",
            "warning: --local is ignored\n",
            "remote: Enumerating objects: 4, done.\u001b[K\n",
            "remote: Counting objects: 100% (4/4), done.\u001b[K\n",
            "remote: Compressing objects: 100% (4/4), done.\u001b[K\n",
            "remote: Total 1508 (delta 0), reused 1 (delta 0), pack-reused 1504\u001b[K\n",
            "Receiving objects: 100% (1508/1508), 83.37 MiB | 27.82 MiB/s, done.\n",
            "Resolving deltas: 100% (874/874), done.\n",
            "/content/cloned-repo\n",
            "01_the_machine_learning_landscape.ipynb\n",
            "02_end_to_end_machine_learning_project.ipynb\n",
            "03_classification.ipynb\n",
            "04_training_linear_models.ipynb\n",
            "05_support_vector_machines.ipynb\n",
            "06_decision_trees.ipynb\n",
            "07_ensemble_learning_and_random_forests.ipynb\n",
            "08_dimensionality_reduction.ipynb\n",
            "09_up_and_running_with_tensorflow.ipynb\n",
            "10_introduction_to_artificial_neural_networks.ipynb\n",
            "11_deep_learning.ipynb\n",
            "12_distributed_tensorflow.ipynb\n",
            "13_convolutional_neural_networks.ipynb\n",
            "14_recurrent_neural_networks.ipynb\n",
            "15_autoencoders.ipynb\n",
            "16_reinforcement_learning.ipynb\n",
            "book_equations.ipynb\n",
            "datasets\n",
            "docker\n",
            "extra_autodiff.ipynb\n",
            "extra_capsnets-cn.ipynb\n",
            "extra_capsnets.ipynb\n",
            "extra_gradient_descent_comparison.ipynb\n",
            "extra_tensorflow_reproducibility.ipynb\n",
            "future_encoders.py\n",
            "images\n",
            "index.ipynb\n",
            "LICENSE\n",
            "math_linear_algebra.ipynb\n",
            "ml-project-checklist.md\n",
            "README.md\n",
            "requirements.txt\n",
            "tensorflow_graph_in_jupyter.py\n",
            "tools_matplotlib.ipynb\n",
            "tools_numpy.ipynb\n",
            "tools_pandas.ipynb\n"
          ],
          "name": "stdout"
        }
      ]
    },
    {
      "cell_type": "markdown",
      "metadata": {
        "id": "Hm8lUHsIbocT",
        "colab_type": "text"
      },
      "source": [
        "### datapath define"
      ]
    },
    {
      "cell_type": "code",
      "metadata": {
        "id": "xSKBsq2JbnU9",
        "colab_type": "code",
        "colab": {}
      },
      "source": [
        "import os\n",
        "datapath = os.path.join(\"datasets\",\"lifesat\", \"\")"
      ],
      "execution_count": 0,
      "outputs": []
    },
    {
      "cell_type": "markdown",
      "metadata": {
        "id": "6MUCyUHNb7XD",
        "colab_type": "text"
      },
      "source": [
        "### import libraries"
      ]
    },
    {
      "cell_type": "code",
      "metadata": {
        "id": "G65QNhppcJvo",
        "colab_type": "code",
        "colab": {}
      },
      "source": [
        "import matplotlib \n",
        "import matplotlib.pyplot as plt\n",
        "import numpy as np\n",
        "import pandas as pd\n",
        "import sklearn\n",
        "import sklearn.linear_model as linear_model"
      ],
      "execution_count": 0,
      "outputs": []
    },
    {
      "cell_type": "markdown",
      "metadata": {
        "id": "DJYzPaRKce-t",
        "colab_type": "text"
      },
      "source": [
        "### import data"
      ]
    },
    {
      "cell_type": "code",
      "metadata": {
        "id": "mL6gxZAse_yB",
        "colab_type": "code",
        "colab": {}
      },
      "source": [
        "oecd_bli = pd.read_csv(datapath + \"oecd_bli_2015.csv\", thousands=\",\");\n",
        "gdp_data =  pd.read_csv(datapath + \"gdp_per_capita.csv\", thousands=\",\", delimiter='\\t', encoding='latin1', na_values=\"n/a\");"
      ],
      "execution_count": 0,
      "outputs": []
    },
    {
      "cell_type": "markdown",
      "metadata": {
        "id": "cvHiQYU6dTxQ",
        "colab_type": "text"
      },
      "source": [
        "### The code to download from github"
      ]
    },
    {
      "cell_type": "code",
      "metadata": {
        "id": "vsMJvCrKWWQA",
        "colab_type": "code",
        "colab": {}
      },
      "source": [
        "import os\n",
        "import tarfile\n",
        "from six.moves import urllib\n",
        "\n",
        "DOWNLOAD_ROOT = \"https://raw.githubusercontent.com/ageron/handson-ml/master/\"\n",
        "HOUSING_PATH = os.path.join(\"datasets\", \"housing\")\n",
        "HOUSING_URL = DOWNLOAD_ROOT + \"datasets/housing/housing.tgz\"\n",
        "\n",
        "def fetch_housing_data(housing_url=HOUSING_URL, housing_path=HOUSING_PATH):\n",
        "    os.makedirs(housing_path, exist_ok=True)\n",
        "    tgz_path = os.path.join(housing_path, \"housing.tgz\")\n",
        "    urllib.request.urlretrieve(housing_url, tgz_path)\n",
        "    housing_tgz = tarfile.open(tgz_path)\n",
        "    housing_tgz.extractall(path=housing_path)\n",
        "    housing_tgz.close()"
      ],
      "execution_count": 0,
      "outputs": []
    },
    {
      "cell_type": "markdown",
      "metadata": {
        "id": "gA-X5T48YLlL",
        "colab_type": "text"
      },
      "source": [
        "### load the data"
      ]
    },
    {
      "cell_type": "code",
      "metadata": {
        "id": "qRVN-IheYiQC",
        "colab_type": "code",
        "colab": {}
      },
      "source": [
        "fetch_housing_data()\n",
        "\n",
        "import pandas as pd\n",
        "\n",
        "def load_housing_data(housing_path=HOUSING_PATH):\n",
        "  csv_path = os.path.join(housing_path, \"housing.csv\")\n",
        "  return pd.read_csv(csv_path)"
      ],
      "execution_count": 0,
      "outputs": []
    },
    {
      "cell_type": "code",
      "metadata": {
        "id": "mcEHVzbKZecJ",
        "colab_type": "code",
        "colab": {
          "base_uri": "https://localhost:8080/",
          "height": 632
        },
        "outputId": "8d1e2c38-429d-4c6c-e1e3-2a897bca0a18"
      },
      "source": [
        "housing = load_housing_data()\n",
        "print(housing.head())\n",
        "print(housing.describe())\n",
        "print(housing.info())"
      ],
      "execution_count": 7,
      "outputs": [
        {
          "output_type": "stream",
          "text": [
            "   longitude  latitude  ...  median_house_value  ocean_proximity\n",
            "0    -122.23     37.88  ...            452600.0         NEAR BAY\n",
            "1    -122.22     37.86  ...            358500.0         NEAR BAY\n",
            "2    -122.24     37.85  ...            352100.0         NEAR BAY\n",
            "3    -122.25     37.85  ...            341300.0         NEAR BAY\n",
            "4    -122.25     37.85  ...            342200.0         NEAR BAY\n",
            "\n",
            "[5 rows x 10 columns]\n",
            "          longitude      latitude  ...  median_income  median_house_value\n",
            "count  20640.000000  20640.000000  ...   20640.000000        20640.000000\n",
            "mean    -119.569704     35.631861  ...       3.870671       206855.816909\n",
            "std        2.003532      2.135952  ...       1.899822       115395.615874\n",
            "min     -124.350000     32.540000  ...       0.499900        14999.000000\n",
            "25%     -121.800000     33.930000  ...       2.563400       119600.000000\n",
            "50%     -118.490000     34.260000  ...       3.534800       179700.000000\n",
            "75%     -118.010000     37.710000  ...       4.743250       264725.000000\n",
            "max     -114.310000     41.950000  ...      15.000100       500001.000000\n",
            "\n",
            "[8 rows x 9 columns]\n",
            "<class 'pandas.core.frame.DataFrame'>\n",
            "RangeIndex: 20640 entries, 0 to 20639\n",
            "Data columns (total 10 columns):\n",
            "longitude             20640 non-null float64\n",
            "latitude              20640 non-null float64\n",
            "housing_median_age    20640 non-null float64\n",
            "total_rooms           20640 non-null float64\n",
            "total_bedrooms        20433 non-null float64\n",
            "population            20640 non-null float64\n",
            "households            20640 non-null float64\n",
            "median_income         20640 non-null float64\n",
            "median_house_value    20640 non-null float64\n",
            "ocean_proximity       20640 non-null object\n",
            "dtypes: float64(9), object(1)\n",
            "memory usage: 1.6+ MB\n",
            "None\n"
          ],
          "name": "stdout"
        }
      ]
    },
    {
      "cell_type": "markdown",
      "metadata": {
        "id": "S_mi2CtMZp9f",
        "colab_type": "text"
      },
      "source": [
        "#### value_counts function"
      ]
    },
    {
      "cell_type": "code",
      "metadata": {
        "id": "1PvlwRacbqjk",
        "colab_type": "code",
        "colab": {
          "base_uri": "https://localhost:8080/",
          "height": 119
        },
        "outputId": "88e562ad-881e-4e45-ebfa-e7baff11bacb"
      },
      "source": [
        "print(housing[\"ocean_proximity\"].value_counts())"
      ],
      "execution_count": 10,
      "outputs": [
        {
          "output_type": "stream",
          "text": [
            "<1H OCEAN     9136\n",
            "INLAND        6551\n",
            "NEAR OCEAN    2658\n",
            "NEAR BAY      2290\n",
            "ISLAND           5\n",
            "Name: ocean_proximity, dtype: int64\n"
          ],
          "name": "stdout"
        }
      ]
    },
    {
      "cell_type": "code",
      "metadata": {
        "id": "MTqJsDf7bx1I",
        "colab_type": "code",
        "colab": {}
      },
      "source": [
        ""
      ],
      "execution_count": 0,
      "outputs": []
    }
  ]
}